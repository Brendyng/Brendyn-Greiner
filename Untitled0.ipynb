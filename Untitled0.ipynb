{
  "nbformat": 4,
  "nbformat_minor": 0,
  "metadata": {
    "colab": {
      "name": "Untitled0.ipynb",
      "provenance": []
    },
    "kernelspec": {
      "name": "python3",
      "display_name": "Python 3"
    }
  },
  "cells": [
    {
      "cell_type": "code",
      "metadata": {
        "id": "kFU3i8ZxK2PK",
        "colab_type": "code",
        "colab": {}
      },
      "source": [
        "for x in range (1,50)\n",
        "  print (x)"
      ],
      "execution_count": 0,
      "outputs": []
    }
  ]
}